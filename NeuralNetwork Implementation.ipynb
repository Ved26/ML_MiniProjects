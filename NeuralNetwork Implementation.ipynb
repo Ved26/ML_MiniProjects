{
 "cells": [
  {
   "cell_type": "code",
   "execution_count": 1,
   "id": "637816f4",
   "metadata": {},
   "outputs": [],
   "source": [
    "import numpy as np"
   ]
  },
  {
   "cell_type": "code",
   "execution_count": 2,
   "id": "52ede78b",
   "metadata": {},
   "outputs": [
    {
     "data": {
      "text/plain": [
       "((4, 2), (4, 1))"
      ]
     },
     "execution_count": 2,
     "metadata": {},
     "output_type": "execute_result"
    }
   ],
   "source": [
    "X = np.array([[0,0],[0,1],[1,0],[1,1]])\n",
    "Y = np.array([[0,0,0,1]]).T\n",
    "X.shape, Y.shape"
   ]
  },
  {
   "cell_type": "code",
   "execution_count": 3,
   "id": "2de253cc",
   "metadata": {},
   "outputs": [],
   "source": [
    "def sig(z):\n",
    "    return 1/(1+np.exp(-z))"
   ]
  },
  {
   "cell_type": "code",
   "execution_count": 4,
   "id": "195c44a9",
   "metadata": {},
   "outputs": [],
   "source": [
    "def derivativeSig(z):\n",
    "    return sig(z)*(1-sig(z))"
   ]
  },
  {
   "cell_type": "code",
   "execution_count": 12,
   "id": "841a0074",
   "metadata": {},
   "outputs": [
    {
     "data": {
      "text/plain": [
       "(array([[-0.95246893],\n",
       "        [-0.30769952]]),\n",
       " array([0.9316846]))"
      ]
     },
     "execution_count": 12,
     "metadata": {},
     "output_type": "execute_result"
    }
   ],
   "source": [
    "weights = 2*np.random.random((2,1))-1\n",
    "bias = 2*np.random.random(1)-1\n",
    "weights, bias"
   ]
  },
  {
   "cell_type": "code",
   "execution_count": 14,
   "id": "3b74b4d3",
   "metadata": {},
   "outputs": [
    {
     "data": {
      "text/plain": [
       "(array([[6.2671509],\n",
       "        [6.2671509]]),\n",
       " array([-9.49055996]),\n",
       " array([[7.55624592e-05],\n",
       "        [3.82952733e-02],\n",
       "        [3.82952733e-02],\n",
       "        [9.54510340e-01]]))"
      ]
     },
     "execution_count": 14,
     "metadata": {},
     "output_type": "execute_result"
    }
   ],
   "source": [
    "lr = 0.1\n",
    "for iter in range(10000):\n",
    "    output0 = X\n",
    "    output = sig(np.dot(output0,weights)+bias)\n",
    "\n",
    "    first_term = output - Y\n",
    "    input_for_last_layer = np.dot(output0,weights)+bias\n",
    "    second_term = derivativeSig(input_for_last_layer)\n",
    "    first_two = first_term*second_term\n",
    "\n",
    "    changes = np.array([[0.0],[0.0]])\n",
    "\n",
    "    for i in range(2):\n",
    "        for j in range(4):\n",
    "            changes[i][0] += first_two[j][0]*output0[j][i]\n",
    "    weights = weights- lr*changes\n",
    "    bias_change = 0.0\n",
    "    for j in range(4):\n",
    "        bias_change += first_two[j][0]*1\n",
    "    bias = bias - lr*bias_change\n",
    "ouptut = sig(np.dot(X,weights)+bias)\n",
    "weights,bias, output"
   ]
  },
  {
   "cell_type": "code",
   "execution_count": 13,
   "id": "51f1a756",
   "metadata": {},
   "outputs": [
    {
     "data": {
      "text/plain": [
       "(array([[5.46627879],\n",
       "        [5.4662788 ]]),\n",
       " array([-8.29216892]),\n",
       " array([[2.50452235e-04],\n",
       "        [5.59441500e-02],\n",
       "        [5.59441497e-02],\n",
       "        [9.33412412e-01]]))"
      ]
     },
     "execution_count": 13,
     "metadata": {},
     "output_type": "execute_result"
    }
   ],
   "source": [
    "lr = 0.1\n",
    "for iter in range(10000):\n",
    "    output0 = X\n",
    "    output = sig(np.dot(output0,weights)+bias)\n",
    "\n",
    "    first_term = output - Y\n",
    "    input_for_last_layer = np.dot(output0,weights)+bias\n",
    "    second_term = derivativeSig(input_for_last_layer)\n",
    "    first_two = first_term*second_term\n",
    "\n",
    "    changes = np.dot(output0.T,first_two)\n",
    "    \n",
    "    weights = weights- lr*changes\n",
    "    bias_change = np.sum(first_two)\n",
    "    bias = bias - lr*bias_change\n",
    "ouptut = sig(np.dot(X,weights)+bias)\n",
    "weights,bias, output"
   ]
  },
  {
   "cell_type": "code",
   "execution_count": 15,
   "id": "e35d3b38",
   "metadata": {},
   "outputs": [],
   "source": [
    "wh = 2-np.random.random((2,2))-1\n",
    "wo = 2-np.random.random((2,1))-1\n",
    "bh = 2-np.random.random((1,2))-1\n",
    "bo = 2-np.random.random((1,1))-1\n",
    "lr = 0.1\n"
   ]
  },
  {
   "cell_type": "code",
   "execution_count": 9,
   "id": "21a0ab7e",
   "metadata": {},
   "outputs": [
    {
     "data": {
      "text/plain": [
       "array([[0.69435389],\n",
       "       [0.70811458],\n",
       "       [0.71525603],\n",
       "       [0.72661853]])"
      ]
     },
     "execution_count": 9,
     "metadata": {},
     "output_type": "execute_result"
    }
   ],
   "source": [
    "output0 = X\n",
    "outputHidden = sig(np.dot(output0,wh)+bh)\n",
    "output = sig(np.dot(outputHidden,wo)+bo)\n",
    "output"
   ]
  },
  {
   "cell_type": "markdown",
   "id": "cfb7ba25",
   "metadata": {},
   "source": [
    "### General Neural Network\n"
   ]
  },
  {
   "cell_type": "code",
   "execution_count": 16,
   "id": "af3044a7",
   "metadata": {},
   "outputs": [
    {
     "data": {
      "text/plain": [
       "((4, 2), (4, 1))"
      ]
     },
     "execution_count": 16,
     "metadata": {},
     "output_type": "execute_result"
    }
   ],
   "source": [
    "X = np.array([[0,0],[0,1],[1,0],[1,1]])\n",
    "Y = np.array([[0,1,1,0]]).T\n",
    "X.shape, Y.shape"
   ]
  },
  {
   "cell_type": "code",
   "execution_count": 17,
   "id": "91925869",
   "metadata": {},
   "outputs": [],
   "source": [
    "wh = 2-np.random.random((2,2))-1\n",
    "wo = 2-np.random.random((2,1))-1\n",
    "bh = 2-np.random.random((1,2))-1\n",
    "bo = 2-np.random.random((1,1))-1\n",
    "lr = 0.1"
   ]
  },
  {
   "cell_type": "code",
   "execution_count": 19,
   "id": "0455954c",
   "metadata": {},
   "outputs": [
    {
     "data": {
      "text/plain": [
       "(array([[0.06819006],\n",
       "        [0.9359962 ],\n",
       "        [0.93522368],\n",
       "        [0.07071156]]),\n",
       " array([[5.66535816, 3.46140054],\n",
       "        [5.88652146, 3.49997884]]),\n",
       " array([[-2.35261431, -5.31519171]]),\n",
       " array([[ 7.18163109],\n",
       "        [-7.82031855]]),\n",
       " array([[-3.20035441]]))"
      ]
     },
     "execution_count": 19,
     "metadata": {},
     "output_type": "execute_result"
    }
   ],
   "source": [
    "for iter in range(10000):\n",
    "    output0 = X\n",
    "    inputHidden = np.dot(output0,wh)+bh\n",
    "    outputHidden = sig(inputHidden)\n",
    "    inputForOutputLayer = np.dot(outputHidden,wo)+bo\n",
    "    output = sig(inputForOutputLayer)\n",
    "\n",
    "    first_term_output_layer = output - Y\n",
    "    second_term_ouptut_layer = derivativeSig(inputForOutputLayer)\n",
    "    first_two_output_layer = first_term_output_layer*second_term_ouptut_layer\n",
    "\n",
    "    first_term_hidden_layer = np.dot(first_two_output_layer,wo.T)\n",
    "    second_term_hidden_layer = derivativeSig(inputHidden)\n",
    "    first_two_hidden_layer = first_term_hidden_layer*second_term_hidden_layer\n",
    "\n",
    "    changes_output = np.dot(outputHidden.T,first_two_output_layer)\n",
    "    changes_output_bias = np.sum(first_two_output_layer,axis=0, keepdims=True)\n",
    "\n",
    "    changes_hidden = np.dot(output0.T,first_two_hidden_layer)\n",
    "    changes_hidden_bias = np.sum(first_two_hidden_layer,axis=0, keepdims=True)\n",
    "\n",
    "    wo = wo - lr*changes_output\n",
    "    bo = bo - lr*changes_output_bias\n",
    "    wh = wh - lr*changes_hidden\n",
    "    bh = bh - lr*changes_hidden_bias\n",
    "\n",
    "output0 = X\n",
    "inputHidden = np.dot(output0,wh)+bh\n",
    "outputHidden = sig(inputHidden)\n",
    "inputForOutputLayer = np.dot(outputHidden,wo)+bo\n",
    "output = sig(inputForOutputLayer)\n",
    "\n",
    "output, wh, bh, wo, bo"
   ]
  },
  {
   "cell_type": "code",
   "execution_count": null,
   "id": "8cce4322",
   "metadata": {},
   "outputs": [],
   "source": []
  }
 ],
 "metadata": {
  "kernelspec": {
   "display_name": "Python 3 (ipykernel)",
   "language": "python",
   "name": "python3"
  },
  "language_info": {
   "codemirror_mode": {
    "name": "ipython",
    "version": 3
   },
   "file_extension": ".py",
   "mimetype": "text/x-python",
   "name": "python",
   "nbconvert_exporter": "python",
   "pygments_lexer": "ipython3",
   "version": "3.9.13"
  }
 },
 "nbformat": 4,
 "nbformat_minor": 5
}
