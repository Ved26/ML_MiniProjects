{
 "cells": [
  {
   "cell_type": "code",
   "execution_count": 1,
   "id": "f0e3712e",
   "metadata": {},
   "outputs": [],
   "source": [
    "import numpy as np\n",
    "import matplotlib.pyplot as plt"
   ]
  },
  {
   "cell_type": "code",
   "execution_count": 2,
   "id": "0b24aea1",
   "metadata": {},
   "outputs": [],
   "source": [
    "X = np.array([[1,2],[1.5,1.8],[5,8],[8,8],[1,0.6],[9,11]])\n"
   ]
  },
  {
   "cell_type": "code",
   "execution_count": 3,
   "id": "b8895179",
   "metadata": {},
   "outputs": [
    {
     "data": {
      "image/png": "[encoded data removed]",
      "text/plain": [
       "<Figure size 640x480 with 1 Axes>"
      ]
     },
     "metadata": {},
     "output_type": "display_data"
    }
   ],
   "source": [
    "plt.scatter(X[:,0],X[:,1])\n",
    "plt.show()"
   ]
  },
  {
   "cell_type": "code",
   "execution_count": 4,
   "id": "d8962f8b",
   "metadata": {},
   "outputs": [],
   "source": [
    "from sklearn.cluster import KMeans"
   ]
  },
  {
   "cell_type": "code",
   "execution_count": 5,
   "id": "eb0e70ca",
   "metadata": {},
   "outputs": [],
   "source": [
    "k_means = KMeans(n_clusters=3)\n"
   ]
  },
  {
   "cell_type": "code",
   "execution_count": 6,
   "id": "4710cd70",
   "metadata": {},
   "outputs": [
    {
     "data": {
      "text/plain": [
       "KMeans(n_clusters=3)"
      ]
     },
     "execution_count": 6,
     "metadata": {},
     "output_type": "execute_result"
    }
   ],
   "source": [
    "k_means.fit(X)"
   ]
  },
  {
   "cell_type": "code",
   "execution_count": 7,
   "id": "65910466",
   "metadata": {},
   "outputs": [
    {
     "data": {
      "text/plain": [
       "array([0, 0, 1, 1, 0, 2])"
      ]
     },
     "execution_count": 7,
     "metadata": {},
     "output_type": "execute_result"
    }
   ],
   "source": [
    "k_means.labels_"
   ]
  },
  {
   "cell_type": "code",
   "execution_count": 8,
   "id": "7bd19103",
   "metadata": {},
   "outputs": [
    {
     "data": {
      "text/plain": [
       "array([[ 1.16666667,  1.46666667],\n",
       "       [ 6.5       ,  8.        ],\n",
       "       [ 9.        , 11.        ]])"
      ]
     },
     "execution_count": 8,
     "metadata": {},
     "output_type": "execute_result"
    }
   ],
   "source": [
    "k_means.cluster_centers_"
   ]
  },
  {
   "cell_type": "code",
   "execution_count": 9,
   "id": "bc84935d",
   "metadata": {},
   "outputs": [
    {
     "data": {
      "image/png": "[encoded data removed]",
      "text/plain": [
       "<Figure size 640x480 with 1 Axes>"
      ]
     },
     "metadata": {},
     "output_type": "display_data"
    }
   ],
   "source": [
    "plt.scatter(X[:,0],X[:,1],c=k_means.labels_)\n",
    "plt.scatter(k_means.cluster_centers_[:,0],k_means.cluster_centers_[:,1])\n",
    "plt.show()"
   ]
  },
  {
   "cell_type": "markdown",
   "id": "2376665d",
   "metadata": {},
   "source": [
    "### KMeans on Iris Dataset"
   ]
  },
  {
   "cell_type": "code",
   "execution_count": 10,
   "id": "f3d08b76",
   "metadata": {},
   "outputs": [],
   "source": [
    "import numpy as np \n",
    "import pandas as pd \n",
    "import seaborn as sns\n",
    "from matplotlib import pyplot as plt\n",
    "from sklearn.cluster import KMeans\n",
    "from sklearn.preprocessing import LabelEncoder\n",
    "from sklearn.metrics import classification_report\n",
    "from sklearn.metrics import accuracy_score"
   ]
  },
  {
   "cell_type": "code",
   "execution_count": 11,
   "id": "111a9248",
   "metadata": {},
   "outputs": [],
   "source": [
    "import pandas as pd"
   ]
  },
  {
   "cell_type": "code",
   "execution_count": 12,
   "id": "e8824174",
   "metadata": {},
   "outputs": [],
   "source": [
    "df = pd.read_csv('Iris.csv')"
   ]
  },
  {
   "cell_type": "code",
   "execution_count": 13,
   "id": "6e99eb1f",
   "metadata": {},
   "outputs": [
    {
     "data": {
      "text/html": [
       "<div>\n",
       "<style scoped>\n",
       "    .dataframe tbody tr th:only-of-type {\n",
       "        vertical-align: middle;\n",
       "    }\n",
       "\n",
       "    .dataframe tbody tr th {\n",
       "        vertical-align: top;\n",
       "    }\n",
       "\n",
       "    .dataframe thead th {\n",
       "        text-align: right;\n",
       "    }\n",
       "</style>\n",
       "<table border=\"1\" class=\"dataframe\">\n",
       "  <thead>\n",
       "    <tr style=\"text-align: right;\">\n",
       "      <th></th>\n",
       "      <th>Id</th>\n",
       "      <th>SepalLengthCm</th>\n",
       "      <th>SepalWidthCm</th>\n",
       "      <th>PetalLengthCm</th>\n",
       "      <th>PetalWidthCm</th>\n",
       "      <th>Species</th>\n",
       "    </tr>\n",
       "  </thead>\n",
       "  <tbody>\n",
       "    <tr>\n",
       "      <th>0</th>\n",
       "      <td>1</td>\n",
       "      <td>5.1</td>\n",
       "      <td>3.5</td>\n",
       "      <td>1.4</td>\n",
       "      <td>0.2</td>\n",
       "      <td>Iris-setosa</td>\n",
       "    </tr>\n",
       "    <tr>\n",
       "      <th>1</th>\n",
       "      <td>2</td>\n",
       "      <td>4.9</td>\n",
       "      <td>3.0</td>\n",
       "      <td>1.4</td>\n",
       "      <td>0.2</td>\n",
       "      <td>Iris-setosa</td>\n",
       "    </tr>\n",
       "    <tr>\n",
       "      <th>2</th>\n",
       "      <td>3</td>\n",
       "      <td>4.7</td>\n",
       "      <td>3.2</td>\n",
       "      <td>1.3</td>\n",
       "      <td>0.2</td>\n",
       "      <td>Iris-setosa</td>\n",
       "    </tr>\n",
       "    <tr>\n",
       "      <th>3</th>\n",
       "      <td>4</td>\n",
       "      <td>4.6</td>\n",
       "      <td>3.1</td>\n",
       "      <td>1.5</td>\n",
       "      <td>0.2</td>\n",
       "      <td>Iris-setosa</td>\n",
       "    </tr>\n",
       "    <tr>\n",
       "      <th>4</th>\n",
       "      <td>5</td>\n",
       "      <td>5.0</td>\n",
       "      <td>3.6</td>\n",
       "      <td>1.4</td>\n",
       "      <td>0.2</td>\n",
       "      <td>Iris-setosa</td>\n",
       "    </tr>\n",
       "  </tbody>\n",
       "</table>\n",
       "</div>"
      ],
      "text/plain": [
       "   Id  SepalLengthCm  SepalWidthCm  PetalLengthCm  PetalWidthCm      Species\n",
       "0   1            5.1           3.5            1.4           0.2  Iris-setosa\n",
       "1   2            4.9           3.0            1.4           0.2  Iris-setosa\n",
       "2   3            4.7           3.2            1.3           0.2  Iris-setosa\n",
       "3   4            4.6           3.1            1.5           0.2  Iris-setosa\n",
       "4   5            5.0           3.6            1.4           0.2  Iris-setosa"
      ]
     },
     "execution_count": 13,
     "metadata": {},
     "output_type": "execute_result"
    }
   ],
   "source": [
    "df.head()"
   ]
  },
  {
   "cell_type": "code",
   "execution_count": 14,
   "id": "bf1264b5",
   "metadata": {},
   "outputs": [
    {
     "data": {
      "text/plain": [
       "array(['Iris-setosa', 'Iris-versicolor', 'Iris-virginica'], dtype=object)"
      ]
     },
     "execution_count": 14,
     "metadata": {},
     "output_type": "execute_result"
    }
   ],
   "source": [
    "np.unique(df['Species'])"
   ]
  },
  {
   "cell_type": "code",
   "execution_count": 16,
   "id": "31de0eaa",
   "metadata": {},
   "outputs": [
    {
     "data": {
      "text/plain": [
       "(150, 6)"
      ]
     },
     "execution_count": 16,
     "metadata": {},
     "output_type": "execute_result"
    }
   ],
   "source": [
    "df.shape"
   ]
  },
  {
   "cell_type": "code",
   "execution_count": 17,
   "id": "aa5352b3",
   "metadata": {},
   "outputs": [
    {
     "data": {
      "image/png": "[encoded data removed]",
      "text/plain": [
       "<Figure size 640x480 with 2 Axes>"
      ]
     },
     "metadata": {},
     "output_type": "display_data"
    }
   ],
   "source": [
    "#finding correlation of features \n",
    "correl=df.corr()\n",
    "sns.heatmap(correl,annot=True);\n",
    "plt.show();"
   ]
  },
  {
   "cell_type": "code",
   "execution_count": 18,
   "id": "336fd24d",
   "metadata": {},
   "outputs": [
    {
     "data": {
      "image/png": "[encoded data removed]",
      "text/plain": [
       "<Figure size 640x480 with 1 Axes>"
      ]
     },
     "metadata": {},
     "output_type": "display_data"
    }
   ],
   "source": [
    "ax = df[df.Species=='Iris-setosa'].plot.scatter(x='SepalLengthCm', y='SepalWidthCm', \n",
    "                                                    color='red', label='Iris - Setosa')\n",
    "df[df.Species=='Iris-versicolor'].plot.scatter(x='SepalLengthCm', y='SepalWidthCm', \n",
    "                                                color='green', label='Iris - Versicolor', ax=ax)\n",
    "df[df.Species=='Iris-virginica'].plot.scatter(x='SepalLengthCm', y='SepalWidthCm', \n",
    "                                                color='blue', label='Iris - Virginica', ax=ax)\n",
    "ax.set_title(\"Scatter Plot\")\n",
    "plt.show();"
   ]
  },
  {
   "cell_type": "code",
   "execution_count": 19,
   "id": "763928cf",
   "metadata": {},
   "outputs": [],
   "source": [
    "encoder = LabelEncoder()\n",
    "df['Species'] = encoder.fit_transform(df['Species'])\n"
   ]
  },
  {
   "cell_type": "code",
   "execution_count": 20,
   "id": "6fec4afd",
   "metadata": {},
   "outputs": [
    {
     "data": {
      "text/html": [
       "<div>\n",
       "<style scoped>\n",
       "    .dataframe tbody tr th:only-of-type {\n",
       "        vertical-align: middle;\n",
       "    }\n",
       "\n",
       "    .dataframe tbody tr th {\n",
       "        vertical-align: top;\n",
       "    }\n",
       "\n",
       "    .dataframe thead th {\n",
       "        text-align: right;\n",
       "    }\n",
       "</style>\n",
       "<table border=\"1\" class=\"dataframe\">\n",
       "  <thead>\n",
       "    <tr style=\"text-align: right;\">\n",
       "      <th></th>\n",
       "      <th>Id</th>\n",
       "      <th>SepalLengthCm</th>\n",
       "      <th>SepalWidthCm</th>\n",
       "      <th>PetalLengthCm</th>\n",
       "      <th>PetalWidthCm</th>\n",
       "      <th>Species</th>\n",
       "    </tr>\n",
       "  </thead>\n",
       "  <tbody>\n",
       "    <tr>\n",
       "      <th>0</th>\n",
       "      <td>1</td>\n",
       "      <td>5.1</td>\n",
       "      <td>3.5</td>\n",
       "      <td>1.4</td>\n",
       "      <td>0.2</td>\n",
       "      <td>0</td>\n",
       "    </tr>\n",
       "    <tr>\n",
       "      <th>1</th>\n",
       "      <td>2</td>\n",
       "      <td>4.9</td>\n",
       "      <td>3.0</td>\n",
       "      <td>1.4</td>\n",
       "      <td>0.2</td>\n",
       "      <td>0</td>\n",
       "    </tr>\n",
       "    <tr>\n",
       "      <th>2</th>\n",
       "      <td>3</td>\n",
       "      <td>4.7</td>\n",
       "      <td>3.2</td>\n",
       "      <td>1.3</td>\n",
       "      <td>0.2</td>\n",
       "      <td>0</td>\n",
       "    </tr>\n",
       "    <tr>\n",
       "      <th>3</th>\n",
       "      <td>4</td>\n",
       "      <td>4.6</td>\n",
       "      <td>3.1</td>\n",
       "      <td>1.5</td>\n",
       "      <td>0.2</td>\n",
       "      <td>0</td>\n",
       "    </tr>\n",
       "    <tr>\n",
       "      <th>4</th>\n",
       "      <td>5</td>\n",
       "      <td>5.0</td>\n",
       "      <td>3.6</td>\n",
       "      <td>1.4</td>\n",
       "      <td>0.2</td>\n",
       "      <td>0</td>\n",
       "    </tr>\n",
       "    <tr>\n",
       "      <th>...</th>\n",
       "      <td>...</td>\n",
       "      <td>...</td>\n",
       "      <td>...</td>\n",
       "      <td>...</td>\n",
       "      <td>...</td>\n",
       "      <td>...</td>\n",
       "    </tr>\n",
       "    <tr>\n",
       "      <th>145</th>\n",
       "      <td>146</td>\n",
       "      <td>6.7</td>\n",
       "      <td>3.0</td>\n",
       "      <td>5.2</td>\n",
       "      <td>2.3</td>\n",
       "      <td>2</td>\n",
       "    </tr>\n",
       "    <tr>\n",
       "      <th>146</th>\n",
       "      <td>147</td>\n",
       "      <td>6.3</td>\n",
       "      <td>2.5</td>\n",
       "      <td>5.0</td>\n",
       "      <td>1.9</td>\n",
       "      <td>2</td>\n",
       "    </tr>\n",
       "    <tr>\n",
       "      <th>147</th>\n",
       "      <td>148</td>\n",
       "      <td>6.5</td>\n",
       "      <td>3.0</td>\n",
       "      <td>5.2</td>\n",
       "      <td>2.0</td>\n",
       "      <td>2</td>\n",
       "    </tr>\n",
       "    <tr>\n",
       "      <th>148</th>\n",
       "      <td>149</td>\n",
       "      <td>6.2</td>\n",
       "      <td>3.4</td>\n",
       "      <td>5.4</td>\n",
       "      <td>2.3</td>\n",
       "      <td>2</td>\n",
       "    </tr>\n",
       "    <tr>\n",
       "      <th>149</th>\n",
       "      <td>150</td>\n",
       "      <td>5.9</td>\n",
       "      <td>3.0</td>\n",
       "      <td>5.1</td>\n",
       "      <td>1.8</td>\n",
       "      <td>2</td>\n",
       "    </tr>\n",
       "  </tbody>\n",
       "</table>\n",
       "<p>150 rows × 6 columns</p>\n",
       "</div>"
      ],
      "text/plain": [
       "      Id  SepalLengthCm  SepalWidthCm  PetalLengthCm  PetalWidthCm  Species\n",
       "0      1            5.1           3.5            1.4           0.2        0\n",
       "1      2            4.9           3.0            1.4           0.2        0\n",
       "2      3            4.7           3.2            1.3           0.2        0\n",
       "3      4            4.6           3.1            1.5           0.2        0\n",
       "4      5            5.0           3.6            1.4           0.2        0\n",
       "..   ...            ...           ...            ...           ...      ...\n",
       "145  146            6.7           3.0            5.2           2.3        2\n",
       "146  147            6.3           2.5            5.0           1.9        2\n",
       "147  148            6.5           3.0            5.2           2.0        2\n",
       "148  149            6.2           3.4            5.4           2.3        2\n",
       "149  150            5.9           3.0            5.1           1.8        2\n",
       "\n",
       "[150 rows x 6 columns]"
      ]
     },
     "execution_count": 20,
     "metadata": {},
     "output_type": "execute_result"
    }
   ],
   "source": [
    "df"
   ]
  },
  {
   "cell_type": "code",
   "execution_count": 21,
   "id": "477b6f3e",
   "metadata": {},
   "outputs": [],
   "source": [
    "df= df.drop(['Id'], axis = 1)\n"
   ]
  },
  {
   "cell_type": "code",
   "execution_count": 22,
   "id": "e7d7b3d8",
   "metadata": {},
   "outputs": [
    {
     "name": "stdout",
     "output_type": "stream",
     "text": [
      "(150, 5)\n",
      "(150,)\n",
      "(112, 5)\n",
      "(112,)\n",
      "(38, 5)\n",
      "(38,)\n"
     ]
    }
   ],
   "source": [
    "data = df.values \n",
    "\n",
    "X=data [:, 0:5]\n",
    "Y= data [: , -1]\n",
    "\n",
    "print(X.shape)\n",
    "print(Y.shape)\n",
    "\n",
    "#train-test split = 3:1 \n",
    "\n",
    "train_x = X[: 112, ]\n",
    "train_y = Y[:112, ]\n",
    "\n",
    "test_x = X[112:150, ]\n",
    "test_y = Y[112:150, ]\n",
    "\n",
    "print(train_x.shape)\n",
    "print(train_y.shape)\n",
    "print(test_x.shape)\n",
    "print(test_y.shape)\n"
   ]
  },
  {
   "cell_type": "code",
   "execution_count": 23,
   "id": "4c2971e9",
   "metadata": {},
   "outputs": [],
   "source": [
    "#KMeans\n",
    "\n",
    "kmeans = KMeans(n_clusters=3)\n",
    "kmeans.fit(train_x, train_y)\n",
    "\n",
    "# training predictions\n",
    "train_labels= kmeans.predict(train_x)\n",
    "\n",
    "#testing predictions\n",
    "test_labels = kmeans.predict(test_x)"
   ]
  },
  {
   "cell_type": "code",
   "execution_count": 24,
   "id": "b022977d",
   "metadata": {},
   "outputs": [
    {
     "name": "stdout",
     "output_type": "stream",
     "text": [
      "9.821428571428571\n",
      "94.73684210526315\n"
     ]
    }
   ],
   "source": [
    "#KMeans model accuracy\n",
    "\n",
    "#training accuracy\n",
    "print(accuracy_score(train_y, train_labels)*100)\n",
    "#testing accuracy\n",
    "print(accuracy_score(test_labels, test_y)*100)\n"
   ]
  },
  {
   "cell_type": "code",
   "execution_count": 25,
   "id": "cfa21472",
   "metadata": {},
   "outputs": [
    {
     "name": "stdout",
     "output_type": "stream",
     "text": [
      "              precision    recall  f1-score   support\n",
      "\n",
      "         0.0       0.00      0.00      0.00        50\n",
      "         1.0       0.00      0.00      0.00        50\n",
      "         2.0       1.00      0.92      0.96        12\n",
      "\n",
      "    accuracy                           0.10       112\n",
      "   macro avg       0.33      0.31      0.32       112\n",
      "weighted avg       0.11      0.10      0.10       112\n",
      "\n"
     ]
    }
   ],
   "source": [
    "#classification report for training set \n",
    "print(classification_report(train_y, train_labels))"
   ]
  },
  {
   "cell_type": "markdown",
   "id": "c673f2f9",
   "metadata": {},
   "source": [
    "### K-Means Implementation "
   ]
  },
  {
   "cell_type": "code",
   "execution_count": 34,
   "id": "899d5156",
   "metadata": {},
   "outputs": [],
   "source": [
    "X = np.array([[1,2],[1.5,1.8],[5,8],[8,8],[1,0.6],[9,11]])\n"
   ]
  },
  {
   "cell_type": "code",
   "execution_count": 35,
   "id": "6b9dfe66",
   "metadata": {},
   "outputs": [
    {
     "data": {
      "image/png": "[encoded data removed]",
      "text/plain": [
       "<Figure size 640x480 with 1 Axes>"
      ]
     },
     "metadata": {},
     "output_type": "display_data"
    }
   ],
   "source": [
    "plt.scatter(X[:,0],X[:,1])\n",
    "plt.show()"
   ]
  },
  {
   "cell_type": "code",
   "execution_count": 42,
   "id": "5db142dd",
   "metadata": {},
   "outputs": [],
   "source": [
    "def fit(data, k=2,max_iter=3):\n",
    "    means = []\n",
    "    #randomly initialize the means\n",
    "    for i in range(k):\n",
    "        means.append(data[i])\n",
    "     \n",
    "    #print(\"Means\",end=\" \")\n",
    "    #print(means)\n",
    "    for i in range(max_iter):\n",
    "        #assign the datapoints to the cluster that they belong to\n",
    "        #create empty clusters\n",
    "        #print(\"Iter: \",i)\n",
    "        cluster = []\n",
    "        for j in range(k):\n",
    "            cluster.append([])\n",
    "        #print(\"Cluster\",end=\" \")\n",
    "        #print(cluster)\n",
    "        for point in data:\n",
    "            #find distance to all the mean values\n",
    "            distances = [((point-m)**2).sum() for m in means]\n",
    "            #print(\"\\tDistances: \",end=\" \")\n",
    "            #print(distances)\n",
    "            #find the min distance \n",
    "            minDistance = min(distances)\n",
    "            #print(\"\\tMinDistance: \",end=\" \")\n",
    "            #print(minDistance)\n",
    "            #find the mean for which we got the minimum distance --->l\n",
    "            l = distances.index(minDistance)\n",
    "            #print(\"\\tL:\",end=\" \")\n",
    "            #print(l)\n",
    "            #add this point to cluster l\n",
    "            cluster[l].append(point)\n",
    "           # print(\"\\tCluster: \",end=\" \")\n",
    "            #print(cluster)\n",
    "            \n",
    "\n",
    "        #calculate the new mean values\n",
    "        change = False\n",
    "        for j in range(k):\n",
    "            new_mean = np.average(cluster[j],axis=0)\n",
    "            if np.array_equal(means[j],new_mean):\n",
    "                change = True\n",
    "            means[j] = new_mean\n",
    "        if not change:\n",
    "            break\n",
    "    return means"
   ]
  },
  {
   "cell_type": "code",
   "execution_count": 49,
   "id": "fa52288d",
   "metadata": {},
   "outputs": [],
   "source": [
    "def predict(test_data,means):\n",
    "    predictions = []\n",
    "    for point in test_data:\n",
    "            #find distance to all the mean values\n",
    "            distances = [((point-m)**2).sum() for m in means]\n",
    "            #find the min distance \n",
    "            minDistance = min(distances)\n",
    "            #find the mean for which we got the minimum distance --->l\n",
    "            l = distances.index(minDistance)\n",
    "            predictions.append(l)\n",
    "    return predictions"
   ]
  },
  {
   "cell_type": "code",
   "execution_count": 50,
   "id": "66ccebf8",
   "metadata": {},
   "outputs": [],
   "source": [
    "means = fit(X)"
   ]
  },
  {
   "cell_type": "code",
   "execution_count": 51,
   "id": "60708f03",
   "metadata": {},
   "outputs": [
    {
     "data": {
      "text/plain": [
       "[0, 0, 1, 1, 0, 1]"
      ]
     },
     "execution_count": 51,
     "metadata": {},
     "output_type": "execute_result"
    }
   ],
   "source": [
    "predict(X,means)"
   ]
  },
  {
   "cell_type": "markdown",
   "id": "7ac06deb",
   "metadata": {},
   "source": [
    "### KMeans Class Implementation "
   ]
  },
  {
   "cell_type": "code",
   "execution_count": 63,
   "id": "680187c0",
   "metadata": {},
   "outputs": [],
   "source": [
    "class K_Means:\n",
    "    \n",
    "    def __init__(self,k=2,max_iter=100):\n",
    "        self.k = k\n",
    "        self.max_iter = max_iter\n",
    "\n",
    "        \n",
    "    def fit(self,data):\n",
    "        self.means = []\n",
    "        #randomly initialize the means\n",
    "        for i in range(self.k):\n",
    "            self.means.append(data[i])\n",
    "        for i in range(self.max_iter):\n",
    "           \n",
    "            cluster = []\n",
    "            for j in range(self.k):\n",
    "                cluster.append([])\n",
    "            for point in data:\n",
    "                #find distance to all the mean values\n",
    "                distances = [((point-m)**2).sum() for m in self.means]\n",
    "                #find the min distance \n",
    "                minDistance = min(distances)\n",
    "                #find the mean for which we got the minimum distance --->l\n",
    "                l = distances.index(minDistance)\n",
    "                #add this point to cluster l\n",
    "                cluster[l].append(point)\n",
    "\n",
    "            #calculate the new mean values\n",
    "            change = False\n",
    "            for j in range(self.k):\n",
    "                new_mean = np.average(cluster[j],axis=0)\n",
    "                if np.array_equal(self.means[j],new_mean):\n",
    "                    change = True\n",
    "                self.means[j] = new_mean\n",
    "            if not change:\n",
    "                break\n",
    "    \n",
    "    def predict(self,test_data):\n",
    "        predictions = []\n",
    "        for point in test_data:\n",
    "                #find distance to all the mean values\n",
    "                distances = [((point-m)**2).sum() for m in self.means]\n",
    "                #find the min distance \n",
    "                minDistance = min(distances)\n",
    "                #find the mean for which we got the minimum distance --->l\n",
    "                l = distances.index(minDistance)\n",
    "                predictions.append(l)\n",
    "        return predictions"
   ]
  },
  {
   "cell_type": "code",
   "execution_count": 68,
   "id": "00c34cc7",
   "metadata": {},
   "outputs": [],
   "source": [
    "kmeans = K_Means(2,10)"
   ]
  },
  {
   "cell_type": "code",
   "execution_count": 69,
   "id": "da45ef9a",
   "metadata": {},
   "outputs": [],
   "source": [
    "kmeans.fit(X)"
   ]
  },
  {
   "cell_type": "code",
   "execution_count": 70,
   "id": "2edc1c5e",
   "metadata": {},
   "outputs": [
    {
     "data": {
      "text/plain": [
       "[0, 0, 1, 1, 0, 1]"
      ]
     },
     "execution_count": 70,
     "metadata": {},
     "output_type": "execute_result"
    }
   ],
   "source": [
    "kmeans.predict(X)"
   ]
  },
  {
   "cell_type": "code",
   "execution_count": null,
   "id": "7fc90de1",
   "metadata": {},
   "outputs": [],
   "source": [
    " "
   ]
  }
 ],
 "metadata": {
  "kernelspec": {
   "display_name": "Python 3",
   "language": "python",
   "name": "python3"
  },
  "language_info": {
   "codemirror_mode": {
    "name": "ipython",
    "version": 3
   },
   "file_extension": ".py",
   "mimetype": "text/x-python",
   "name": "python",
   "nbconvert_exporter": "python",
   "pygments_lexer": "ipython3",
   "version": "3.9.6"
  }
 },
 "nbformat": 4,
 "nbformat_minor": 5
}
