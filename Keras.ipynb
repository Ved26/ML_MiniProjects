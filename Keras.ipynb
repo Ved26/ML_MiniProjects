{
 "cells": [
  {
   "cell_type": "code",
   "execution_count": 1,
   "id": "78798633",
   "metadata": {},
   "outputs": [],
   "source": [
    "from keras.models import Sequential"
   ]
  },
  {
   "cell_type": "code",
   "execution_count": 2,
   "id": "501cb976",
   "metadata": {},
   "outputs": [],
   "source": [
    "model = Sequential()"
   ]
  },
  {
   "cell_type": "code",
   "execution_count": 3,
   "id": "c388dfd2",
   "metadata": {},
   "outputs": [],
   "source": [
    "from keras.layers import Dense"
   ]
  },
  {
   "cell_type": "code",
   "execution_count": 4,
   "id": "974f082d",
   "metadata": {},
   "outputs": [],
   "source": [
    "layer1 = Dense(units=32,activation = 'relu',input_dim = 30)\n",
    "model.add(layer1)\n",
    "model.add(Dense(units=16,activation='relu'))\n",
    "model.add(Dense(units=1,activation='sigmoid'))"
   ]
  },
  {
   "cell_type": "code",
   "execution_count": 5,
   "id": "d424a46f",
   "metadata": {},
   "outputs": [
    {
     "name": "stdout",
     "output_type": "stream",
     "text": [
      "Model: \"sequential\"\n",
      "_________________________________________________________________\n",
      "Layer (type)                 Output Shape              Param #   \n",
      "=================================================================\n",
      "dense (Dense)                (None, 32)                992       \n",
      "_________________________________________________________________\n",
      "dense_1 (Dense)              (None, 16)                528       \n",
      "_________________________________________________________________\n",
      "dense_2 (Dense)              (None, 1)                 17        \n",
      "=================================================================\n",
      "Total params: 1,537\n",
      "Trainable params: 1,537\n",
      "Non-trainable params: 0\n",
      "_________________________________________________________________\n"
     ]
    }
   ],
   "source": [
    "model.summary()"
   ]
  },
  {
   "cell_type": "code",
   "execution_count": 6,
   "id": "c58f47d5",
   "metadata": {},
   "outputs": [],
   "source": [
    "model.compile(optimizer='adam',loss='binary_crossentropy',metrics=['accuracy'])"
   ]
  },
  {
   "cell_type": "code",
   "execution_count": 7,
   "id": "60b658e7",
   "metadata": {},
   "outputs": [],
   "source": [
    "from sklearn import datasets\n",
    "cancer = datasets.load_breast_cancer()\n",
    "from sklearn.model_selection import train_test_split\n",
    "\n",
    "x_train,x_test, y_train, y_test = train_test_split(cancer.data,cancer.target,test_size=0.2,random_state=0)\n",
    "from sklearn.preprocessing import StandardScaler\n",
    "\n",
    "sc = StandardScaler()\n",
    "x_train = sc.fit_transform(x_train)\n",
    "x_test = sc.transform(x_test)"
   ]
  },
  {
   "cell_type": "code",
   "execution_count": 12,
   "id": "84c207c2",
   "metadata": {},
   "outputs": [
    {
     "data": {
      "text/plain": [
       "(455, 30)"
      ]
     },
     "execution_count": 12,
     "metadata": {},
     "output_type": "execute_result"
    }
   ],
   "source": [
    "x_train.shape"
   ]
  },
  {
   "cell_type": "code",
   "execution_count": 17,
   "id": "a4002fc1",
   "metadata": {},
   "outputs": [
    {
     "name": "stdout",
     "output_type": "stream",
     "text": [
      "Epoch 1/20\n",
      "10/10 [==============================] - 0s 11ms/step - loss: 0.0250 - accuracy: 0.9912 - val_loss: 0.0677 - val_accuracy: 0.9649\n",
      "Epoch 2/20\n",
      "10/10 [==============================] - 0s 7ms/step - loss: 0.0245 - accuracy: 0.9912 - val_loss: 0.0678 - val_accuracy: 0.9649\n",
      "Epoch 3/20\n",
      "10/10 [==============================] - 0s 6ms/step - loss: 0.0238 - accuracy: 0.9912 - val_loss: 0.0677 - val_accuracy: 0.9561\n",
      "Epoch 4/20\n",
      "10/10 [==============================] - 0s 7ms/step - loss: 0.0229 - accuracy: 0.9912 - val_loss: 0.0676 - val_accuracy: 0.9561\n",
      "Epoch 5/20\n",
      "10/10 [==============================] - 0s 6ms/step - loss: 0.0223 - accuracy: 0.9912 - val_loss: 0.0677 - val_accuracy: 0.9561\n",
      "Epoch 6/20\n",
      "10/10 [==============================] - 0s 7ms/step - loss: 0.0216 - accuracy: 0.9912 - val_loss: 0.0670 - val_accuracy: 0.9561\n",
      "Epoch 7/20\n",
      "10/10 [==============================] - 0s 6ms/step - loss: 0.0210 - accuracy: 0.9912 - val_loss: 0.0642 - val_accuracy: 0.9561\n",
      "Epoch 8/20\n",
      "10/10 [==============================] - 0s 7ms/step - loss: 0.0203 - accuracy: 0.9912 - val_loss: 0.0636 - val_accuracy: 0.9561\n",
      "Epoch 9/20\n",
      "10/10 [==============================] - 0s 6ms/step - loss: 0.0197 - accuracy: 0.9912 - val_loss: 0.0629 - val_accuracy: 0.9561\n",
      "Epoch 10/20\n",
      "10/10 [==============================] - 0s 6ms/step - loss: 0.0191 - accuracy: 0.9912 - val_loss: 0.0629 - val_accuracy: 0.9561\n",
      "Epoch 11/20\n",
      "10/10 [==============================] - 0s 6ms/step - loss: 0.0184 - accuracy: 0.9912 - val_loss: 0.0627 - val_accuracy: 0.9561\n",
      "Epoch 12/20\n",
      "10/10 [==============================] - 0s 6ms/step - loss: 0.0179 - accuracy: 0.9912 - val_loss: 0.0636 - val_accuracy: 0.9561\n",
      "Epoch 13/20\n",
      "10/10 [==============================] - 0s 7ms/step - loss: 0.0175 - accuracy: 0.9912 - val_loss: 0.0635 - val_accuracy: 0.9649\n",
      "Epoch 14/20\n",
      "10/10 [==============================] - 0s 7ms/step - loss: 0.0169 - accuracy: 0.9934 - val_loss: 0.0638 - val_accuracy: 0.9737\n",
      "Epoch 15/20\n",
      "10/10 [==============================] - 0s 6ms/step - loss: 0.0163 - accuracy: 0.9956 - val_loss: 0.0637 - val_accuracy: 0.9737\n",
      "Epoch 16/20\n",
      "10/10 [==============================] - 0s 8ms/step - loss: 0.0158 - accuracy: 0.9956 - val_loss: 0.0636 - val_accuracy: 0.9737\n",
      "Epoch 17/20\n",
      "10/10 [==============================] - 0s 6ms/step - loss: 0.0156 - accuracy: 0.9956 - val_loss: 0.0633 - val_accuracy: 0.9737\n",
      "Epoch 18/20\n",
      "10/10 [==============================] - 0s 7ms/step - loss: 0.0148 - accuracy: 0.9956 - val_loss: 0.0631 - val_accuracy: 0.9737\n",
      "Epoch 19/20\n",
      "10/10 [==============================] - 0s 7ms/step - loss: 0.0144 - accuracy: 0.9956 - val_loss: 0.0645 - val_accuracy: 0.9737\n",
      "Epoch 20/20\n",
      "10/10 [==============================] - 0s 7ms/step - loss: 0.0140 - accuracy: 0.9956 - val_loss: 0.0652 - val_accuracy: 0.9737\n"
     ]
    },
    {
     "data": {
      "text/plain": [
       "<tensorflow.python.keras.callbacks.History at 0x1610c95e0a0>"
      ]
     },
     "execution_count": 17,
     "metadata": {},
     "output_type": "execute_result"
    }
   ],
   "source": [
    "model.fit(x_train,y_train,epochs=20,batch_size=50,validation_data=(x_test,y_test))"
   ]
  },
  {
   "cell_type": "code",
   "execution_count": 11,
   "id": "d79f739a",
   "metadata": {},
   "outputs": [
    {
     "name": "stdout",
     "output_type": "stream",
     "text": [
      "4/4 [==============================] - 0s 1ms/step - loss: 0.0871 - accuracy: 0.9649\n"
     ]
    },
    {
     "data": {
      "text/plain": [
       "[0.08707515150308609, 0.9649122953414917]"
      ]
     },
     "execution_count": 11,
     "metadata": {},
     "output_type": "execute_result"
    }
   ],
   "source": [
    "model.evaluate(x_test,y_test)"
   ]
  },
  {
   "cell_type": "code",
   "execution_count": 16,
   "id": "8aac63ba",
   "metadata": {},
   "outputs": [
    {
     "data": {
      "text/plain": [
       "(114, 30)"
      ]
     },
     "execution_count": 16,
     "metadata": {},
     "output_type": "execute_result"
    }
   ],
   "source": [
    "x_test.shape"
   ]
  },
  {
   "cell_type": "code",
   "execution_count": 18,
   "id": "47a2212c",
   "metadata": {},
   "outputs": [],
   "source": [
    "predictions = model.predict(x_test)"
   ]
  },
  {
   "cell_type": "code",
   "execution_count": 19,
   "id": "13561ea1",
   "metadata": {},
   "outputs": [
    {
     "data": {
      "text/plain": [
       "array([[1.26165714e-05],\n",
       "       [8.73769879e-01],\n",
       "       [9.99926388e-01],\n",
       "       [9.89332676e-01],\n",
       "       [9.99961495e-01],\n",
       "       [9.99963164e-01],\n",
       "       [9.99993920e-01],\n",
       "       [9.99903858e-01],\n",
       "       [9.99857545e-01],\n",
       "       [1.00000000e+00],\n",
       "       [6.73656762e-01],\n",
       "       [9.51065779e-01],\n",
       "       [9.99994278e-01],\n",
       "       [5.67627132e-01],\n",
       "       [3.72134447e-01],\n",
       "       [9.55505925e-07],\n",
       "       [9.99998629e-01],\n",
       "       [6.29474517e-09],\n",
       "       [8.34933701e-07],\n",
       "       [3.54737263e-14],\n",
       "       [1.54927111e-05],\n",
       "       [6.58079853e-06],\n",
       "       [9.99766588e-01],\n",
       "       [9.99726653e-01],\n",
       "       [1.32298098e-07],\n",
       "       [9.99988019e-01],\n",
       "       [9.99989450e-01],\n",
       "       [5.40178153e-05],\n",
       "       [9.99866486e-01],\n",
       "       [1.70102354e-09],\n",
       "       [9.99987185e-01],\n",
       "       [3.65698071e-07],\n",
       "       [9.65365171e-01],\n",
       "       [4.79556802e-05],\n",
       "       [1.00000000e+00],\n",
       "       [1.64347857e-05],\n",
       "       [9.96304870e-01],\n",
       "       [1.22792117e-05],\n",
       "       [9.99422967e-01],\n",
       "       [2.76234841e-05],\n",
       "       [6.31542504e-02],\n",
       "       [9.99978960e-01],\n",
       "       [2.36957371e-02],\n",
       "       [9.99995887e-01],\n",
       "       [9.95556355e-01],\n",
       "       [2.67308453e-14],\n",
       "       [9.99999821e-01],\n",
       "       [9.80979443e-01],\n",
       "       [9.99985933e-01],\n",
       "       [9.21213541e-08],\n",
       "       [1.04227763e-06],\n",
       "       [1.88240409e-03],\n",
       "       [2.47101525e-07],\n",
       "       [9.99862671e-01],\n",
       "       [9.99595463e-01],\n",
       "       [9.99986053e-01],\n",
       "       [9.99617338e-01],\n",
       "       [9.98053432e-01],\n",
       "       [9.87967968e-01],\n",
       "       [7.37283820e-15],\n",
       "       [5.19492169e-05],\n",
       "       [1.80673887e-05],\n",
       "       [9.99996662e-01],\n",
       "       [9.99888897e-01],\n",
       "       [1.06401565e-07],\n",
       "       [8.68784368e-01],\n",
       "       [4.59625389e-23],\n",
       "       [2.03378718e-08],\n",
       "       [8.97520946e-10],\n",
       "       [9.99886155e-01],\n",
       "       [6.32603943e-01],\n",
       "       [9.45381773e-10],\n",
       "       [9.99957085e-01],\n",
       "       [7.28172064e-02],\n",
       "       [2.49643032e-11],\n",
       "       [9.59079742e-01],\n",
       "       [9.99999404e-01],\n",
       "       [9.99644756e-01],\n",
       "       [9.99706507e-01],\n",
       "       [9.99976873e-01],\n",
       "       [1.87939405e-03],\n",
       "       [8.62046871e-17],\n",
       "       [8.16362422e-10],\n",
       "       [9.99914169e-01],\n",
       "       [9.14243064e-05],\n",
       "       [9.99997616e-01],\n",
       "       [9.99986231e-01],\n",
       "       [9.99999762e-01],\n",
       "       [3.18907894e-07],\n",
       "       [4.09301209e-18],\n",
       "       [9.99999642e-01],\n",
       "       [4.41737682e-01],\n",
       "       [4.16674525e-01],\n",
       "       [1.66411551e-09],\n",
       "       [9.99739528e-01],\n",
       "       [9.99944448e-01],\n",
       "       [2.33693989e-12],\n",
       "       [9.97991562e-01],\n",
       "       [9.98621225e-01],\n",
       "       [9.99884248e-01],\n",
       "       [1.00000000e+00],\n",
       "       [9.98954237e-01],\n",
       "       [9.97688949e-01],\n",
       "       [9.80418622e-01],\n",
       "       [4.22445012e-08],\n",
       "       [1.00000000e+00],\n",
       "       [1.78974782e-12],\n",
       "       [9.10620153e-01],\n",
       "       [3.83271456e-01],\n",
       "       [8.92758965e-01],\n",
       "       [9.98569727e-01],\n",
       "       [1.09506515e-09],\n",
       "       [9.97006424e-08],\n",
       "       [9.02890861e-01]], dtype=float32)"
      ]
     },
     "execution_count": 19,
     "metadata": {},
     "output_type": "execute_result"
    }
   ],
   "source": [
    "predictions"
   ]
  },
  {
   "cell_type": "code",
   "execution_count": null,
   "id": "29b3914e",
   "metadata": {},
   "outputs": [],
   "source": []
  }
 ],
 "metadata": {
  "kernelspec": {
   "display_name": "Python 3",
   "language": "python",
   "name": "python3"
  },
  "language_info": {
   "codemirror_mode": {
    "name": "ipython",
    "version": 3
   },
   "file_extension": ".py",
   "mimetype": "text/x-python",
   "name": "python",
   "nbconvert_exporter": "python",
   "pygments_lexer": "ipython3",
   "version": "3.9.6"
  }
 },
 "nbformat": 4,
 "nbformat_minor": 5
}
