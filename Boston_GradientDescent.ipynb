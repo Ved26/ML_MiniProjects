{
 "cells": [
  {
   "cell_type": "code",
   "execution_count": 1,
   "id": "c6c8e1ae",
   "metadata": {},
   "outputs": [],
   "source": [
    "import numpy as np\n",
    "from sklearn.ensemble import GradientBoostingRegressor"
   ]
  },
  {
   "cell_type": "code",
   "execution_count": 2,
   "id": "3a294d81",
   "metadata": {},
   "outputs": [],
   "source": [
    "training_data = np.loadtxt(\"boston_trainingData.csv\",delimiter=\",\")"
   ]
  },
  {
   "cell_type": "code",
   "execution_count": 3,
   "id": "ae6e3820",
   "metadata": {},
   "outputs": [
    {
     "data": {
      "text/plain": [
       "(379, 14)"
      ]
     },
     "execution_count": 3,
     "metadata": {},
     "output_type": "execute_result"
    }
   ],
   "source": [
    "training_data.shape"
   ]
  },
  {
   "cell_type": "code",
   "execution_count": 4,
   "id": "d047f4c1",
   "metadata": {},
   "outputs": [],
   "source": [
    "X_train = training_data[:,:13]\n",
    "Y_train = training_data[:,13]"
   ]
  },
  {
   "cell_type": "code",
   "execution_count": 5,
   "id": "ad4216ec",
   "metadata": {},
   "outputs": [
    {
     "data": {
      "text/plain": [
       "GradientBoostingRegressor()"
      ]
     },
     "execution_count": 5,
     "metadata": {},
     "output_type": "execute_result"
    }
   ],
   "source": [
    "model = GradientBoostingRegressor()\n",
    "model.fit(X_train,Y_train)"
   ]
  },
  {
   "cell_type": "code",
   "execution_count": 6,
   "id": "a73b04d1",
   "metadata": {},
   "outputs": [],
   "source": [
    "testing_data = np.loadtxt(\"boston_testData.csv\",delimiter=\",\")\n",
    "X_test = testing_data"
   ]
  },
  {
   "cell_type": "code",
   "execution_count": 7,
   "id": "2b0c81c7",
   "metadata": {},
   "outputs": [
    {
     "data": {
      "text/plain": [
       "array([11.86134501, 26.80499145, 17.09852907, 22.06512279, 21.19058003,\n",
       "       12.2832724 , 28.78894193, 25.20237061, 18.77275134, 22.99272373,\n",
       "       23.39058111, 17.6291958 , 19.64676654, 20.8280366 , 51.86380438,\n",
       "       21.03836143, 23.49131107, 22.87310447, 19.17816831, 30.6365982 ,\n",
       "       20.89789526, 21.49588187, 36.62299579, 31.34939977, 33.27921713,\n",
       "       16.38574194, 20.47642029, 30.64770333, 19.97381035, 28.7847961 ,\n",
       "       17.218498  , 24.68879147, 20.79190642, 22.83448526,  8.58056865,\n",
       "       23.80896034, 22.57697789, 20.44057093, 22.71189925,  8.0482711 ,\n",
       "       14.9289178 , 23.59244202, 24.78663662, 19.90148152, 21.80376912,\n",
       "        9.44054965, 43.705159  , 24.57774682, 34.34318247, 12.83411894,\n",
       "       14.06393226, 45.23318763, 14.38762866, 20.95608777, 16.3818815 ,\n",
       "       19.74580756, 18.88744499, 22.4778254 , 15.32494152, 15.84899874,\n",
       "       13.68437009, 27.27249687, 22.29881719, 23.0038954 , 14.49435547,\n",
       "       16.20543174, 32.88520177, 12.57183546, 20.91664926, 21.38865206,\n",
       "       26.89060552, 22.4160134 , 17.53180895,  8.13709613, 40.87146657,\n",
       "       21.66773253, 24.81218576, 24.68577454, 11.18676181, 32.62948531,\n",
       "       20.3474716 , 20.47947875, 20.9030367 , 18.45394969, 15.88697786,\n",
       "       36.08870697, 26.61758829,  8.31281089, 20.93956808, 16.5878904 ,\n",
       "       21.40239227, 19.64762828, 18.87936783, 10.27898014, 20.81163149,\n",
       "       23.90967272, 46.26701445, 18.78391226, 34.92344671, 22.95026495,\n",
       "       23.80000929, 20.88890302, 21.41269253, 24.72749571, 14.72046185,\n",
       "       24.35839178, 21.39943111, 45.23745798, 22.16544353, 13.92815817,\n",
       "       21.85086053, 19.90405613, 17.6803099 , 17.42008199, 43.90570389,\n",
       "       17.82721244, 20.96953081, 24.17746102, 21.79142152, 18.74070989,\n",
       "       14.42705082, 33.28475025, 22.84731298, 21.64251059, 22.05724281,\n",
       "       20.30405694, 17.04964942])"
      ]
     },
     "execution_count": 7,
     "metadata": {},
     "output_type": "execute_result"
    }
   ],
   "source": [
    "Y_pred = model.predict(X_test)\n",
    "Y_pred"
   ]
  },
  {
   "cell_type": "code",
   "execution_count": 8,
   "id": "5b854811",
   "metadata": {},
   "outputs": [
    {
     "data": {
      "text/plain": [
       "0.9774216123881818"
      ]
     },
     "execution_count": 8,
     "metadata": {},
     "output_type": "execute_result"
    }
   ],
   "source": [
    "model.score(X_train,Y_train)"
   ]
  },
  {
   "cell_type": "code",
   "execution_count": null,
   "id": "784c9f94",
   "metadata": {},
   "outputs": [],
   "source": [
    "Y_pred = np.around(Y_pred,5) "
   ]
  },
  {
   "cell_type": "code",
   "execution_count": null,
   "id": "28a2cd8a",
   "metadata": {},
   "outputs": [],
   "source": [
    "np.savetxt(\"predictions_boston.csv\",Y_pred) #predicted values saving in csv"
   ]
  },
  {
   "cell_type": "code",
   "execution_count": 9,
   "id": "b4001a61",
   "metadata": {},
   "outputs": [],
   "source": [
    "from sklearn import preprocessing"
   ]
  },
  {
   "cell_type": "code",
   "execution_count": 10,
   "id": "3dad0d84",
   "metadata": {
    "scrolled": true
   },
   "outputs": [],
   "source": [
    "scaler = preprocessing.StandardScaler()\n",
    "\n",
    "X_scaled = scaler.fit(X_train)\n",
    "X_train2 = X_scaled.transform(X_train)\n"
   ]
  },
  {
   "cell_type": "code",
   "execution_count": 11,
   "id": "3143aa57",
   "metadata": {
    "scrolled": false
   },
   "outputs": [],
   "source": [
    "Y_train_2 = Y_train.reshape(-1,1)\n",
    "Y_scaled = scaler.fit(Y_train_2)\n",
    "Y_train2 = Y_scaled.transform(Y_train_2)"
   ]
  },
  {
   "cell_type": "code",
   "execution_count": 12,
   "id": "ceb4f0ad",
   "metadata": {},
   "outputs": [],
   "source": [
    "Y_train2 = np.ravel(Y_train2)"
   ]
  },
  {
   "cell_type": "code",
   "execution_count": 13,
   "id": "da967737",
   "metadata": {},
   "outputs": [
    {
     "data": {
      "text/plain": [
       "GradientBoostingRegressor()"
      ]
     },
     "execution_count": 13,
     "metadata": {},
     "output_type": "execute_result"
    }
   ],
   "source": [
    "model2 = GradientBoostingRegressor()\n",
    "model2.fit(X_train2,Y_train2)"
   ]
  },
  {
   "cell_type": "code",
   "execution_count": 14,
   "id": "364d77be",
   "metadata": {},
   "outputs": [],
   "source": [
    "\n",
    "X_test2 = test_scaled.transform(X_test)\n"
   ]
  },
  {
   "cell_type": "code",
   "execution_count": 15,
   "id": "7e15e91b",
   "metadata": {},
   "outputs": [
    {
     "data": {
      "text/plain": [
       "array([ 9.00934518, 26.32211894, 19.2712481 , 22.69045213, 18.81745456,\n",
       "       14.95619124, 25.3653984 , 23.36882009, 19.06116858, 21.81333234,\n",
       "       21.73899343, 17.73418693, 19.99555808, 20.13650783, 50.7431847 ,\n",
       "       22.17918182, 22.83464693, 21.95883151, 19.71877102, 30.44865038,\n",
       "       19.22260501, 19.71420288, 38.18443212, 30.59383639, 33.91177519,\n",
       "       15.71754666, 18.16107082, 27.1160764 , 17.84571725, 25.67707663,\n",
       "       17.24045156, 23.28325798, 20.41908692, 22.54300765, 13.02430936,\n",
       "       21.82078764, 22.60106603, 18.1360957 , 21.27001122,  6.32010251,\n",
       "       15.17478423, 24.89364596, 25.56204853, 18.13027467, 20.99218253,\n",
       "       10.06880815, 39.4236539 , 24.2193604 , 32.9610451 , 10.48535789,\n",
       "       12.32020698, 45.79947749, 11.79003065, 19.72941332, 16.32528212,\n",
       "       19.82498973, 17.667297  , 20.1521058 , 15.29656207, 14.58368893,\n",
       "       12.77803623, 28.16066779, 19.98803324, 21.94866363, 13.24174124,\n",
       "       15.96682693, 32.57599892, 10.45055012, 19.93928279, 20.99570173,\n",
       "       25.31956098, 21.42379895, 15.67934622,  9.13642004, 41.22085623,\n",
       "       21.59176509, 25.80765386, 24.09268254, 12.886497  , 33.13010314,\n",
       "       19.76896318, 18.0082025 , 19.86780782, 19.10535075, 15.39327393,\n",
       "       32.71846078, 25.46236211,  7.90525494, 19.18853517, 15.50503794,\n",
       "       19.54665168, 18.60395344, 17.57251111,  9.42892546, 20.97166957,\n",
       "       22.60173475, 45.69003304, 15.42118941, 34.83225735, 22.90461085,\n",
       "       23.72848767, 19.36906694, 20.3772515 , 24.86073071, 13.1928201 ,\n",
       "       23.05985132, 21.14258453, 44.29832707, 21.44545544, 12.83930564,\n",
       "       21.28242069, 12.30955176, 16.22965928, 16.06237592, 43.75312   ,\n",
       "       15.80944302, 20.94444176, 21.45783237, 21.18326494, 20.47344139,\n",
       "       13.79101015, 32.05761768, 21.85813269, 21.41925804, 20.94558377,\n",
       "       16.89361877, 14.50762516])"
      ]
     },
     "execution_count": 15,
     "metadata": {},
     "output_type": "execute_result"
    }
   ],
   "source": [
    "Y_pred2 = model.predict(X_test2)\n",
    "Y_pred2"
   ]
  },
  {
   "cell_type": "code",
   "execution_count": 19,
   "id": "0cab3c94",
   "metadata": {},
   "outputs": [
    {
     "data": {
      "text/plain": [
       "0.9774216123881818"
      ]
     },
     "execution_count": 19,
     "metadata": {},
     "output_type": "execute_result"
    }
   ],
   "source": [
    "model2.score(X_train2,Y_train2)"
   ]
  },
  {
   "cell_type": "code",
   "execution_count": null,
   "id": "4b377fd8",
   "metadata": {},
   "outputs": [],
   "source": []
  }
 ],
 "metadata": {
  "kernelspec": {
   "display_name": "Python 3 (ipykernel)",
   "language": "python",
   "name": "python3"
  },
  "language_info": {
   "codemirror_mode": {
    "name": "ipython",
    "version": 3
   },
   "file_extension": ".py",
   "mimetype": "text/x-python",
   "name": "python",
   "nbconvert_exporter": "python",
   "pygments_lexer": "ipython3",
   "version": "3.9.13"
  }
 },
 "nbformat": 4,
 "nbformat_minor": 5
}
